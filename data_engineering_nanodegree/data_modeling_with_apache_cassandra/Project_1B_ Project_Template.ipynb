{
 "cells": [
  {
   "cell_type": "markdown",
   "metadata": {
    "editable": true
   },
   "source": [
    "# Part I. ETL Pipeline for Pre-Processing the Files"
   ]
  },
  {
   "cell_type": "markdown",
   "metadata": {
    "editable": true
   },
   "source": [
    "### Import Python packages "
   ]
  },
  {
   "cell_type": "code",
   "execution_count": 1,
   "metadata": {
    "editable": true
   },
   "outputs": [],
   "source": [
    "# Import Python packages \n",
    "import pandas as pd\n",
    "from tabulate import tabulate\n",
    "import cassandra\n",
    "import os\n",
    "import glob\n",
    "import csv"
   ]
  },
  {
   "cell_type": "markdown",
   "metadata": {
    "editable": true
   },
   "source": [
    "### Create list of filepaths to process original event csv data files"
   ]
  },
  {
   "cell_type": "code",
   "execution_count": 2,
   "metadata": {
    "editable": true
   },
   "outputs": [
    {
     "name": "stdout",
     "output_type": "stream",
     "text": [
      "Current working directory: /home/workspace\n",
      "File path sample: /home/workspace/event_data/2018-11-27-events.csv\n"
     ]
    }
   ],
   "source": [
    "# Check current working directory\n",
    "print(f'Current working directory: {os.getcwd()}')\n",
    "\n",
    "# Get current folder and subfolder event data\n",
    "filepath = os.getcwd() + '/event_data'\n",
    "\n",
    "# Create a list of files and collect each filepath\n",
    "for root, dirs, files in os.walk(filepath):\n",
    "    \n",
    "# Join the file path and roots with the subdirectories\n",
    "    file_path_list = glob.glob(os.path.join(root,'*'))\n",
    "    print(f'File path sample: {file_path_list[0]}') if file_path_list else print('File paths missing')"
   ]
  },
  {
   "cell_type": "markdown",
   "metadata": {
    "editable": true
   },
   "source": [
    "### Process the files to create the data file csv that will be used for Apache Casssandra tables"
   ]
  },
  {
   "cell_type": "code",
   "execution_count": 3,
   "metadata": {
    "editable": true
   },
   "outputs": [
    {
     "name": "stdout",
     "output_type": "stream",
     "text": [
      "Number of data rows extracted: 8056\n",
      "Data row sample: ['Barry Tuckwell/Academy of St Martin-in-the-Fields/Sir Neville Marriner', 'Logged In', 'Mohammad', 'M', '0', 'Rodriguez', '277.15873', 'paid', 'Sacramento--Roseville--Arden-Arcade, CA', 'PUT', 'NextSong', '1.54051E+12', '961', 'Horn Concerto No. 4 in E flat K495: II. Romance (Andante cantabile)', '200', '1.54328E+12', '88']\n"
     ]
    }
   ],
   "source": [
    "# Initiate an empty list of rows that will be generated from each file\n",
    "full_data_rows_list = [] \n",
    "    \n",
    "for f in file_path_list:\n",
    "\n",
    "# Read csv file \n",
    "    with open(f, 'r', encoding = 'utf8', newline='') as csvfile: \n",
    "        # creating a csv reader object \n",
    "        csvreader = csv.reader(csvfile) \n",
    "        next(csvreader)\n",
    "        \n",
    "# Extract each data row one by one and append it        \n",
    "        for line in csvreader:\n",
    "            full_data_rows_list.append(line) \n",
    "            \n",
    "print(f'Number of data rows extracted: {len(full_data_rows_list)}')\n",
    "print(f'Data row sample: {full_data_rows_list[0]}') if full_data_rows_list else print('Source data empty')\n",
    "\n",
    "# Create a smaller event data csv file to be used to insert data into the tables\n",
    "csv.register_dialect('myDialect', quoting=csv.QUOTE_ALL, skipinitialspace=True)\n",
    "\n",
    "with open('event_datafile_new.csv', 'w', encoding = 'utf8', newline='') as f:\n",
    "    writer = csv.writer(f, dialect='myDialect')\n",
    "    writer.writerow(['artist','firstName','gender','itemInSession','lastName','length',\\\n",
    "                'level','location','sessionId','song','userId'])\n",
    "    for row in full_data_rows_list:\n",
    "        if (row[0] == ''):\n",
    "            continue\n",
    "        writer.writerow((row[0], row[2], row[3], row[4], row[5], row[6], row[7], row[8], row[12], row[13], row[16]))\n"
   ]
  },
  {
   "cell_type": "code",
   "execution_count": 4,
   "metadata": {
    "editable": true
   },
   "outputs": [
    {
     "name": "stdout",
     "output_type": "stream",
     "text": [
      "Number of data rows in new csv file: 6821\n"
     ]
    }
   ],
   "source": [
    "# Check the number of rows in the csv file\n",
    "with open('event_datafile_new.csv', 'r', encoding = 'utf8') as f:\n",
    "    print(f'Number of data rows in new csv file: {sum(1 for line in f)}')"
   ]
  },
  {
   "cell_type": "markdown",
   "metadata": {
    "editable": true
   },
   "source": [
    "### The CSV file titled <font color=red>event_datafile_new.csv</font> should now be available to work with and located within the Workspace directory.  The event_datafile_new.csv contains the following columns: \n",
    "- artist \n",
    "- firstName of user\n",
    "- gender of user\n",
    "- item number in session\n",
    "- last name of user\n",
    "- length of the song\n",
    "- level (paid or free song)\n",
    "- location of the user\n",
    "- sessionId\n",
    "- song title\n",
    "- userId\n",
    "\n",
    "#### The image below is a screenshot of how the denormalized data should appear in the <font color=red>**event_datafile_new.csv**</font> file after the code above is run:<br>\n",
    "\n",
    "<img src=\"images/image_event_datafile_new.jpg\">"
   ]
  },
  {
   "cell_type": "markdown",
   "metadata": {
    "editable": true
   },
   "source": [
    "# Part II. Apache Cassandra Database Implementation"
   ]
  },
  {
   "cell_type": "markdown",
   "metadata": {
    "editable": true
   },
   "source": [
    "### Create Apache Cassandra Cluster"
   ]
  },
  {
   "cell_type": "code",
   "execution_count": 5,
   "metadata": {
    "editable": true
   },
   "outputs": [],
   "source": [
    "# Create cluster\n",
    "\n",
    "from cassandra.cluster import Cluster\n",
    "try:\n",
    "    cluster = Cluster(['127.0.0.1']) # make a connection to a Cassandra instance on your local machine\n",
    "    session = cluster.connect()\n",
    "except Exception as exception:\n",
    "    print(exception)"
   ]
  },
  {
   "cell_type": "markdown",
   "metadata": {
    "editable": true
   },
   "source": [
    "### Create Keyspace"
   ]
  },
  {
   "cell_type": "code",
   "execution_count": 6,
   "metadata": {
    "editable": true
   },
   "outputs": [],
   "source": [
    "# Create keyspace\n",
    "\n",
    "try:\n",
    "    session.execute(\n",
    "        \"\"\"\n",
    "        CREATE KEYSPACE IF NOT EXISTS sparkify_db1\n",
    "        WITH REPLICATION =\n",
    "            { 'class' : 'SimpleStrategy', 'replication_factor' : 1}\n",
    "        \"\"\"\n",
    "    )\n",
    "except Exception as exception:\n",
    "    print(exception)"
   ]
  },
  {
   "cell_type": "markdown",
   "metadata": {
    "editable": true
   },
   "source": [
    "### Set Keyspace"
   ]
  },
  {
   "cell_type": "code",
   "execution_count": 7,
   "metadata": {
    "editable": true
   },
   "outputs": [],
   "source": [
    "# Set keyspace\n",
    "\n",
    "try:\n",
    "    session.set_keyspace('sparkify_db1')\n",
    "except Exception as exception:\n",
    "    print(exception)"
   ]
  },
  {
   "cell_type": "markdown",
   "metadata": {
    "editable": true
   },
   "source": [
    "### Create tables for the following queries. With Apache Cassandra, it's best practice to model the database tables on the queries that will be run."
   ]
  },
  {
   "cell_type": "markdown",
   "metadata": {
    "editable": true
   },
   "source": [
    "## Queries to to be run:\n",
    "\n",
    "### 1. Provide the artist, song title and song's length in the music app history that was heard during  sessionId = 338, and itemInSession  = 4\n",
    "\n",
    "\n",
    "### 2. Provide only the following: name of artist, song (sorted by itemInSession) and user (first and last name) for userid = 10, sessionid = 182\n",
    "    \n",
    "\n",
    "### 3. Provide every user name (first and last) in my music app history who listened to the song 'All Hands Against His Own'\n",
    "\n",
    "\n"
   ]
  },
  {
   "cell_type": "markdown",
   "metadata": {
    "editable": true
   },
   "source": [
    "## Query 1\n",
    "### Provide the artist, song title and song's length in the music app history that was heard during  sessionId = 338, and itemInSession  = 4\n",
    "#### NOTE: The Primary Key for this table has two fields: session_id (the partition key) and item_in_session (the clustering column). Partitioning is done by session_id and within that partition, rows are ordered by the item_in_session."
   ]
  },
  {
   "cell_type": "code",
   "execution_count": 8,
   "metadata": {
    "editable": true
   },
   "outputs": [],
   "source": [
    "# QUERY 1\n",
    "# Provide the name of the artist, song title, and song's length for sessionId = 338, itemInSession = 4\n",
    "\n",
    "# Create table\n",
    "\n",
    "query = (\"\"\"\n",
    "CREATE TABLE IF NOT EXISTS song_from_session_item (\n",
    "    session_id       INT,\n",
    "    item_in_session  INT,\n",
    "    artist_name      VARCHAR,\n",
    "    song_title       VARCHAR,\n",
    "    song_length      DOUBLE,\n",
    "    PRIMARY KEY (session_id, item_in_session)\n",
    "    )\n",
    "\"\"\")\n",
    "try:\n",
    "    session.execute(query)\n",
    "except Exception as exception:\n",
    "    print(exception)                    "
   ]
  },
  {
   "cell_type": "code",
   "execution_count": 9,
   "metadata": {
    "editable": true
   },
   "outputs": [],
   "source": [
    "# QUERY 1\n",
    "# Provide the name of the artist, song title, and song's length for sessionId = 338, itemInSession = 4\n",
    "\n",
    "# Insert data\n",
    "\n",
    "filepath = 'event_datafile_new.csv'\n",
    "\n",
    "with open(filepath, encoding = 'utf8') as file:\n",
    "    csvreader = csv.reader(file)\n",
    "    next(csvreader) # skip header\n",
    "    for line in csvreader:\n",
    "        query = \"INSERT INTO song_from_session_item (session_id, item_in_session, artist_name, song_title, song_length)\"\n",
    "        query = query + \"VALUES (%s, %s, %s, %s, %s)\"\n",
    "        session.execute(query, (int(line[8]), int(line[3]), line[0], line[9], float(line[5])))"
   ]
  },
  {
   "cell_type": "code",
   "execution_count": 10,
   "metadata": {
    "editable": true,
    "scrolled": true
   },
   "outputs": [
    {
     "name": "stdout",
     "output_type": "stream",
     "text": [
      "╒═══════════════╤═════════════════════════════════╤═══════════════╕\n",
      "│ artist_name   │ song_title                      │   song_length │\n",
      "╞═══════════════╪═════════════════════════════════╪═══════════════╡\n",
      "│ Faithless     │ Music Matters (Mark Knight Dub) │       495.307 │\n",
      "╘═══════════════╧═════════════════════════════════╧═══════════════╛\n"
     ]
    }
   ],
   "source": [
    "# QUERY 1\n",
    "# Provide the name of the artist, song title, and song's length for sessionId = 338, itemInSession = 4\n",
    "\n",
    "# Verify data\n",
    "\n",
    "query = \"SELECT artist_name, song_title, song_length FROM song_from_session_item WHERE session_id = 338 AND item_in_session = 4\"\n",
    "try:\n",
    "    query_df = pd.DataFrame(list(session.execute(query)))\n",
    "except Exception as exception:\n",
    "    print(exception)\n",
    "\n",
    "print(tabulate(query_df, headers='keys', tablefmt='fancy_grid', showindex=False))"
   ]
  },
  {
   "cell_type": "markdown",
   "metadata": {
    "editable": true
   },
   "source": [
    "## Query 2\n",
    "### Provide only the following: name of artist, song (sorted by itemInSession) and user (first and last name) for userid = 10, sessionid = 182\n",
    "#### NOTE: The Primary Key for this table has three fields: user_id & session_id (used together to form the composite partition key) and item_in_session (the clustering column). Since the query uses a user_id and a session_id to find the desired data, it makes sense to partition using both user_id & session_id. Within that composite partition, rows are ordered by the item_in_session."
   ]
  },
  {
   "cell_type": "code",
   "execution_count": 11,
   "metadata": {
    "editable": true
   },
   "outputs": [],
   "source": [
    "# QUERY 2\n",
    "# Provide the name of the artist, song (sorted by itemInSession) and user (first and last name) for userid = 10, sessionid = 182\n",
    "\n",
    "# Create table\n",
    "\n",
    "query = (\"\"\"\n",
    "CREATE TABLE IF NOT EXISTS song_from_user_session (\n",
    "    user_id          INT,\n",
    "    session_id       INT,\n",
    "    item_in_session  INT,\n",
    "    artist_name      VARCHAR,\n",
    "    song_title       VARCHAR,\n",
    "    user_first_name  VARCHAR,\n",
    "    user_last_name   VARCHAR,\n",
    "    PRIMARY KEY ((user_id, session_id), item_in_session)\n",
    "    )\n",
    "\"\"\")\n",
    "try:\n",
    "    session.execute(query)\n",
    "except Exception as exception:\n",
    "    print(exception)                    "
   ]
  },
  {
   "cell_type": "code",
   "execution_count": 12,
   "metadata": {
    "editable": true
   },
   "outputs": [],
   "source": [
    "# QUERY 2\n",
    "# Provide the name of the artist, song (sorted by itemInSession) and user (first and last name) for userid = 10, sessionid = 182\n",
    "\n",
    "# Insert data\n",
    "\n",
    "filepath = 'event_datafile_new.csv'\n",
    "\n",
    "with open(filepath, encoding = 'utf8') as file:\n",
    "    csvreader = csv.reader(file)\n",
    "    next(csvreader) # skip header\n",
    "    for line in csvreader:\n",
    "        query = \"INSERT INTO song_from_user_session (user_id, session_id, item_in_session, artist_name, song_title, user_first_name, user_last_name)\"\n",
    "        query = query + \"VALUES (%s, %s, %s, %s, %s, %s, %s)\"\n",
    "        session.execute(query, (int(line[10]), int(line[8]), int(line[3]), line[0], line[9], line[1], line[4]))"
   ]
  },
  {
   "cell_type": "code",
   "execution_count": 13,
   "metadata": {
    "editable": true
   },
   "outputs": [
    {
     "name": "stdout",
     "output_type": "stream",
     "text": [
      "╒═══════════════════╤══════════════════════════════════════════════════════╤═══════════════════╤══════════════════╕\n",
      "│ artist_name       │ song_title                                           │ user_first_name   │ user_last_name   │\n",
      "╞═══════════════════╪══════════════════════════════════════════════════════╪═══════════════════╪══════════════════╡\n",
      "│ Down To The Bone  │ Keep On Keepin' On                                   │ Sylvie            │ Cruz             │\n",
      "├───────────────────┼──────────────────────────────────────────────────────┼───────────────────┼──────────────────┤\n",
      "│ Three Drives      │ Greece 2000                                          │ Sylvie            │ Cruz             │\n",
      "├───────────────────┼──────────────────────────────────────────────────────┼───────────────────┼──────────────────┤\n",
      "│ Sebastien Tellier │ Kilometer                                            │ Sylvie            │ Cruz             │\n",
      "├───────────────────┼──────────────────────────────────────────────────────┼───────────────────┼──────────────────┤\n",
      "│ Lonnie Gordon     │ Catch You Baby (Steve Pitron & Max Sanna Radio Edit) │ Sylvie            │ Cruz             │\n",
      "╘═══════════════════╧══════════════════════════════════════════════════════╧═══════════════════╧══════════════════╛\n"
     ]
    }
   ],
   "source": [
    "# QUERY 2\n",
    "# Provide the name of the artist, song (sorted by itemInSession) and user (first and last name) for userid = 10, sessionid = 182\n",
    "\n",
    "# Verify data\n",
    "\n",
    "query = \"SELECT artist_name, song_title, user_first_name, user_last_name FROM song_from_user_session WHERE user_id = 10 AND session_id = 182\"\n",
    "try:\n",
    "    query_df = pd.DataFrame(list(session.execute(query)))\n",
    "except Exception as exception:\n",
    "    print(exception)\n",
    "\n",
    "print(tabulate(query_df, headers='keys', tablefmt='fancy_grid', showindex=False))"
   ]
  },
  {
   "cell_type": "markdown",
   "metadata": {
    "editable": true
   },
   "source": [
    "## Query 3\n",
    "### Provide every user name (first and last) in my music app history who listened to the song 'All Hands Against His Own'\n",
    "#### NOTE: The Primary Key for this table has two fields: song_title (the partition key) and user_id (the clustering column). Since the query is searching for users using a particular song, it makes sense to partition using the song_title. Within that partition, rows are ordered by the user_id."
   ]
  },
  {
   "cell_type": "code",
   "execution_count": 14,
   "metadata": {
    "editable": true
   },
   "outputs": [],
   "source": [
    "# QUERY 3\n",
    "# Provide the user name (first and last) of each person that listened to the song 'All Hands Against His Own'\n",
    "\n",
    "# Create table\n",
    "\n",
    "query = (\"\"\"\n",
    "CREATE TABLE IF NOT EXISTS user_from_song_listen (\n",
    "    song_title       VARCHAR,\n",
    "    user_id          INT,\n",
    "    user_first_name  VARCHAR,\n",
    "    user_last_name   VARCHAR,\n",
    "    PRIMARY KEY (song_title, user_id)\n",
    "    )\n",
    "\"\"\")\n",
    "try:\n",
    "    session.execute(query)\n",
    "except Exception as exception:\n",
    "    print(exception)\n",
    "                    "
   ]
  },
  {
   "cell_type": "code",
   "execution_count": 15,
   "metadata": {
    "editable": true
   },
   "outputs": [],
   "source": [
    "# QUERY 3\n",
    "# Provide the user name (first and last) of each person that listened to the song 'All Hands Against His Own'\n",
    "\n",
    "# Insert data\n",
    "\n",
    "filepath = 'event_datafile_new.csv'\n",
    "\n",
    "with open(filepath, encoding = 'utf8') as file:\n",
    "    csvreader = csv.reader(file)\n",
    "    next(csvreader) # skip header\n",
    "    for line in csvreader:\n",
    "        query = \"INSERT INTO user_from_song_listen (song_title, user_id, user_first_name, user_last_name)\"\n",
    "        query = query + \"VALUES (%s, %s, %s, %s)\"\n",
    "        session.execute(query, (line[9], int(line[10]), line[1], line[4]))"
   ]
  },
  {
   "cell_type": "code",
   "execution_count": 16,
   "metadata": {
    "editable": true
   },
   "outputs": [
    {
     "name": "stdout",
     "output_type": "stream",
     "text": [
      "╒═══════════════════╤══════════════════╕\n",
      "│ user_first_name   │ user_last_name   │\n",
      "╞═══════════════════╪══════════════════╡\n",
      "│ Jacqueline        │ Lynch            │\n",
      "├───────────────────┼──────────────────┤\n",
      "│ Tegan             │ Levine           │\n",
      "├───────────────────┼──────────────────┤\n",
      "│ Sara              │ Johnson          │\n",
      "╘═══════════════════╧══════════════════╛\n"
     ]
    }
   ],
   "source": [
    "# QUERY 3\n",
    "# Provide the user name (first and last) of each person that listened to the song 'All Hands Against His Own'\n",
    "\n",
    "# Verify data\n",
    "\n",
    "query = \"SELECT user_first_name, user_last_name FROM user_from_song_listen WHERE song_title = 'All Hands Against His Own'\"\n",
    "try:\n",
    "    query_df = pd.DataFrame(list(session.execute(query)))\n",
    "except Exception as exception:\n",
    "    print(exception)\n",
    "\n",
    "print(tabulate(query_df, headers='keys', tablefmt='fancy_grid', showindex=False))"
   ]
  },
  {
   "cell_type": "markdown",
   "metadata": {
    "editable": true
   },
   "source": [
    "### Drop the tables before closing out the sessions"
   ]
  },
  {
   "cell_type": "code",
   "execution_count": 17,
   "metadata": {
    "editable": true
   },
   "outputs": [],
   "source": [
    "## Drop the tables before closing out the sessions\n",
    "\n",
    "drop_queries = [\n",
    "    \"DROP table song_from_session_item\",\n",
    "    \"DROP table song_from_user_session\",\n",
    "    \"DROP table user_from_song_listen\"\n",
    "]\n",
    "\n",
    "for query in drop_queries:\n",
    "    try:\n",
    "        session.execute(query)\n",
    "    except Exception as exception:\n",
    "        print(exception)"
   ]
  },
  {
   "cell_type": "markdown",
   "metadata": {
    "editable": true
   },
   "source": [
    "### Close the session and cluster connection¶"
   ]
  },
  {
   "cell_type": "code",
   "execution_count": 18,
   "metadata": {
    "editable": true
   },
   "outputs": [],
   "source": [
    "session.shutdown()\n",
    "cluster.shutdown()"
   ]
  }
 ],
 "metadata": {
  "kernelspec": {
   "display_name": "Python 3",
   "language": "python",
   "name": "python3"
  },
  "language_info": {
   "codemirror_mode": {
    "name": "ipython",
    "version": 3
   },
   "file_extension": ".py",
   "mimetype": "text/x-python",
   "name": "python",
   "nbconvert_exporter": "python",
   "pygments_lexer": "ipython3",
   "version": "3.6.3"
  }
 },
 "nbformat": 4,
 "nbformat_minor": 4
}
